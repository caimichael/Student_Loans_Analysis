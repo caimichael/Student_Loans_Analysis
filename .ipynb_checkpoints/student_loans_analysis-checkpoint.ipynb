{
 "cells": [
  {
   "cell_type": "code",
   "execution_count": null,
   "metadata": {
    "collapsed": true
   },
   "outputs": [],
   "source": [
    "#This project is to compare rates of general inflation with student loans outstanding\n",
    "#To see how closely correlated they are\n",
    "#To look at student loan default rates\n",
    "#Compare also the graduation rates (possible to find how many did not graduate but still have loans to pay off?)"
   ]
  },
  {
   "cell_type": "code",
   "execution_count": 1,
   "metadata": {
    "collapsed": true
   },
   "outputs": [],
   "source": [
    "import pandas as pd"
   ]
  },
  {
   "cell_type": "code",
   "execution_count": 26,
   "metadata": {
    "collapsed": false
   },
   "outputs": [],
   "source": [
    "#U.S. CPI Data from Jan 1947 to Dec 2015\n",
    "#With Index 1982-1984 = 100\n",
    "cpi_data = pd.read_csv('cpi.csv')\n",
    "\n",
    "#FRED \n",
    "#Student Loans Owned and Securitized, Outstanding (SLOAS)\n",
    "loans_out_data = pd.read_csv('loans_out.csv')\n",
    "\n",
    "#FRED\n",
    "#Student Loans Owned and Securitized, Flow (FLSLOAS)\n",
    "loans_flow_data = pd.read_csv('loans_flow.csv')\n",
    "\n",
    "#Federal Student Aid Data on Default Rates \n",
    "#http://www2.ed.gov/offices/OSFAP/defaultmanagement/cdr.html\n",
    "#Three-year Official Cohort Default Rates for Schools\n",
    "default_data = pd.read_csv('default.csv')"
   ]
  },
  {
   "cell_type": "code",
   "execution_count": 55,
   "metadata": {
    "collapsed": false
   },
   "outputs": [],
   "source": [
    "#Cleaning up the default_data dataframe to only include Name, State, Zip Code, and num, denom, drate for 3 years\n",
    "threeyr_default_data = default_data.drop(default_data.columns[[0,2,4,6,7,8,9,13,14,15,16,17,18,22,23,27]], axis = 1)"
   ]
  },
  {
   "cell_type": "code",
   "execution_count": 36,
   "metadata": {
    "collapsed": false
   },
   "outputs": [
    {
     "data": {
      "text/plain": [
       "Index([u'OPEID', u'Name', u'City', u'State', u'State Desc', u'Zip Code',\n",
       "       u'Zip Ext', u'Program Length', u'Sch Type', u'Year 1', u'Num 1',\n",
       "       u'Denom 1', u'DRate 1', u'PRate 1', u'Ethnic Code', u'Cong Dis',\n",
       "       u'Region', u'Average or Greater Than 30', u'Year 2', u'Num 2',\n",
       "       u'Denom 2', u'DRate 2', u'PRate 2', u'Year 3', u'Num 3', u'Denom 3',\n",
       "       u'DRate 3', u'PRate 3'],\n",
       "      dtype='object')"
      ]
     },
     "execution_count": 36,
     "metadata": {},
     "output_type": "execute_result"
    }
   ],
   "source": [
    "#If NaN then remove row from data set"
   ]
  }
 ],
 "metadata": {
  "kernelspec": {
   "display_name": "Python 2",
   "language": "python",
   "name": "python2"
  },
  "language_info": {
   "codemirror_mode": {
    "name": "ipython",
    "version": 2
   },
   "file_extension": ".py",
   "mimetype": "text/x-python",
   "name": "python",
   "nbconvert_exporter": "python",
   "pygments_lexer": "ipython2",
   "version": "2.7.10"
  }
 },
 "nbformat": 4,
 "nbformat_minor": 0
}
